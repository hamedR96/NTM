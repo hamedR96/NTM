{
 "cells": [
  {
   "cell_type": "code",
   "execution_count": 1,
   "metadata": {
    "collapsed": true
   },
   "outputs": [],
   "source": [
    "from nltk import word_tokenize\n",
    "from nltk.corpus import stopwords\n",
    "from nltk.stem import WordNetLemmatizer\n",
    "import string\n",
    "import re\n",
    "\n",
    "stop_words = list(set(stopwords.words('english')))\n",
    "\n",
    "def preprocess_text(text):\n",
    "    text = text.lower()\n",
    "    text = re.sub(r'[{}0-9]'.format(string.punctuation), ' ', text)\n",
    "    text=re.sub(r'[^A-Za-z0-9 ]+', ' ', text)\n",
    "    text = word_tokenize(text)\n",
    "    text = [word for word in text if word not in stop_words]\n",
    "    text = [WordNetLemmatizer().lemmatize(word) for word in text]\n",
    "    text = ' '.join(text)\n",
    "    return text"
   ]
  },
  {
   "cell_type": "code",
   "execution_count": 2,
   "outputs": [
    {
     "data": {
      "text/plain": "Pandas Apply:   0%|          | 0/1000 [00:00<?, ?it/s]",
      "application/vnd.jupyter.widget-view+json": {
       "version_major": 2,
       "version_minor": 0,
       "model_id": "84d9f8b763b94f70824b3422c4379d1f"
      }
     },
     "metadata": {},
     "output_type": "display_data"
    }
   ],
   "source": [
    "from sklearn.datasets import fetch_20newsgroups\n",
    "import pandas as pd\n",
    "from nltk.tokenize import word_tokenize\n",
    "import swifter\n",
    "\n",
    "newsgroups = fetch_20newsgroups(subset='all', remove=('headers', 'footers', 'quotes'))\n",
    "df=pd.DataFrame({\"content\":newsgroups[\"data\"]})\n",
    "\n",
    "df=df.sample(1000) #for a sample of 1000 documents\n",
    "df[\"content\"]=df[\"content\"].swifter.apply(lambda x: preprocess_text(x))\n",
    "df['content_length'] = df['content'].str.len()\n",
    "\n",
    "df = df[df['content_length'] > 100]\n",
    "df = df[df['content_length'] < 2000]\n",
    "\n",
    "df=df[[\"content\"]].reset_index(drop=True).reset_index().rename(columns={\"index\":\"id\"})\n",
    "documents=df.content.to_list()"
   ],
   "metadata": {
    "collapsed": false
   }
  },
  {
   "cell_type": "code",
   "execution_count": 3,
   "outputs": [
    {
     "name": "stderr",
     "output_type": "stream",
     "text": [
      "2023-03-31 11:13:09,941 - top2vec - INFO - Pre-processing documents for training\n",
      "2023-03-31 11:13:10,008 - top2vec - INFO - Creating joint document/word embedding\n",
      "2023-03-31 11:13:17,385 - top2vec - INFO - Creating lower dimension embedding of documents\n",
      "OMP: Info #276: omp_set_nested routine deprecated, please use omp_set_max_active_levels instead.\n",
      "2023-03-31 11:13:20,430 - top2vec - INFO - Finding dense areas of documents\n",
      "2023-03-31 11:13:20,440 - top2vec - INFO - Finding topics\n"
     ]
    }
   ],
   "source": [
    "from top2vec import Top2Vec\n",
    "model = Top2Vec(documents=documents, speed=\"deep-learn\", workers=12)"
   ],
   "metadata": {
    "collapsed": false
   }
  },
  {
   "cell_type": "code",
   "execution_count": 4,
   "outputs": [
    {
     "name": "stdout",
     "output_type": "stream",
     "text": [
      "11\n"
     ]
    }
   ],
   "source": [
    "import numpy as np\n",
    "\n",
    "topics=list(model.get_topics()[0])\n",
    "topics=[topic[:10] for topic in topics]\n",
    "print(len(topics))\n",
    "\n",
    "documents_distribution=[]\n",
    "for document in model.doc_top:\n",
    "    document_dist=np.zeros(len(topics))\n",
    "    document_dist[document]=1\n",
    "    documents_distribution.append(document_dist)\n",
    "documents_topic_distribution_array = np.vstack(documents_distribution)"
   ],
   "metadata": {
    "collapsed": false
   }
  },
  {
   "cell_type": "code",
   "execution_count": 5,
   "outputs": [
    {
     "data": {
      "text/plain": "[array(['believe', 'mean', 'see', 'government', 'law', 'every', 'state',\n        'christian', 'never', 'even'], dtype='<U11'),\n array(['better', 'team', 'game', 'well', 'really', 'least', 'group',\n        'course', 'tell', 'still'], dtype='<U11'),\n array(['book', 'software', 'do', 'place', 'price', 'mail', 'edu', 'great',\n        'looking', 'information'], dtype='<U11'),\n array(['something', 'take', 'number', 'rather', 'try', 'thing', 'someone',\n        'wrong', 'stuff', 'must'], dtype='<U11'),\n array(['software', 'disk', 'using', 'program', 'mail', 'do', 'window',\n        'file', 'work', 'looking'], dtype='<U11'),\n array(['god', 'word', 'come', 'found', 'seems', 'far', 'might', 'little',\n        'even', 'mean'], dtype='<U11'),\n array(['bike', 'go', 'look', 'etc', 'seems', 'wrong', 'thing', 'give',\n        'must', 'something'], dtype='<U11'),\n array(['driver', 'got', 'use', 'card', 'help', 'window', 'file', 'sound',\n        'anyone', 'please'], dtype='<U11'),\n array(['year', 'card', 'christian', 'com', 'game', 'idea', 'god', 'last',\n        'true', 'team'], dtype='<U11'),\n array(['government', 'state', 'someone', 'believe', 'thing', 'true',\n        'sure', 'let', 'point', 'would'], dtype='<U11'),\n array(['true', 'question', 'government', 'state', 'information', 'mail',\n        'group', 'anyone', 'com', 'thanks'], dtype='<U11')]"
     },
     "execution_count": 5,
     "metadata": {},
     "output_type": "execute_result"
    }
   ],
   "source": [
    "topics"
   ],
   "metadata": {
    "collapsed": false
   }
  },
  {
   "cell_type": "code",
   "execution_count": null,
   "outputs": [],
   "source": [],
   "metadata": {
    "collapsed": false
   }
  }
 ],
 "metadata": {
  "kernelspec": {
   "display_name": "Python 3",
   "language": "python",
   "name": "python3"
  },
  "language_info": {
   "codemirror_mode": {
    "name": "ipython",
    "version": 2
   },
   "file_extension": ".py",
   "mimetype": "text/x-python",
   "name": "python",
   "nbconvert_exporter": "python",
   "pygments_lexer": "ipython2",
   "version": "2.7.6"
  }
 },
 "nbformat": 4,
 "nbformat_minor": 0
}
